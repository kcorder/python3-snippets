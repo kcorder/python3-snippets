{
 "cells": [
  {
   "cell_type": "code",
   "execution_count": 1,
   "metadata": {},
   "outputs": [],
   "source": [
    "import glob\n",
    "import pandas as pd \n",
    "import matplotlib.pyplot as plt\n",
    "import seaborn as sns\n",
    "import numpy as np \n",
    "import argparse\n",
    "from collections import namedtuple\n",
    "\n",
    "sns.set()\n",
    "colors = sns.color_palette() \n",
    "plt.ioff() # no interactive so we can savefig "
   ]
  },
  {
   "cell_type": "code",
   "execution_count": 2,
   "metadata": {},
   "outputs": [],
   "source": [
    "Args = namedtuple('Args', ['fig_name', 'ylabel', 'x_max']) # global for figure \n",
    "AlgArgs = namedtuple('AlgArgs', ['file_glob', 'label']) # for each algorithm "
   ]
  },
  {
   "cell_type": "markdown",
   "metadata": {},
   "source": [
    "### Define args for figure and algorithms here, then execute the cell below"
   ]
  },
  {
   "cell_type": "code",
   "execution_count": 3,
   "metadata": {},
   "outputs": [],
   "source": [
    "def plot_save(args, alg_args, show=False):\n",
    "    for i, alg_arg in enumerate(alg_args): \n",
    "        csvs = glob.glob(alg_arg.file_glob)\n",
    "        dfs = [pd.read_csv(csv_name).Value for csv_name in csvs]\n",
    "\n",
    "        X_MIN = 0\n",
    "        X_MAX = args.x_max \n",
    "\n",
    "        concat_df = pd.concat(dfs, axis=1)\n",
    "        agg_df = concat_df.agg([np.mean, np.std, np.quantile], axis=1)\n",
    "        num_points = len(agg_df['mean'])\n",
    "        xaxis = np.linspace(X_MIN, X_MAX, num_points)\n",
    "\n",
    "        concat_df['steps'] = xaxis\n",
    "        concat_df = concat_df.set_index('steps')\n",
    "        concat_df = concat_df.rename(columns={'Value': alg_arg.label})\n",
    "        axes = sns.lineplot(data=concat_df, palette=[colors[i]])\n",
    "\n",
    "    plt.xlabel('Steps')\n",
    "    plt.ylabel(args.ylabel)\n",
    "\n",
    "    if args.fig_name is not None and show==False:\n",
    "        plt.savefig(args.fig_name, bbox_inches='tight')\n",
    "    else:\n",
    "        plt.show() "
   ]
  },
  {
   "cell_type": "code",
   "execution_count": 13,
   "metadata": {},
   "outputs": [],
   "source": [
    "args = Args(fig_name=\"battle_won_mean.pdf\", \n",
    "         ylabel='Battle won %', \n",
    "         x_max=int(1e6)) \n",
    "alg_args = [] \n",
    "alg_args.append(AlgArgs(file_glob=\"marl/battle_won_mean/*\", label=\"RODE\"))\n",
    "alg_args.append(AlgArgs(file_glob=\"mardoc1/battle_won_mean/*\", label=\"MARDOC1\"))\n",
    "alg_args.append(AlgArgs(file_glob=\"mardoc2/battle_won_mean/*\", label=\"MARDOC2\"))\n",
    "alg_args.append(AlgArgs(file_glob=\"mardoc3/battle_won_mean/*\", label=\"MARDOC3\"))\n",
    "\n",
    "plot_save(args, alg_args)\n",
    "plt.clf() "
   ]
  },
  {
   "cell_type": "code",
   "execution_count": 9,
   "metadata": {},
   "outputs": [],
   "source": [
    "args = Args(fig_name=\"dead_allies_mean.pdf\", \n",
    "         ylabel='# Dead Allies', \n",
    "         x_max=int(1e6)) \n",
    "alg_args = [] \n",
    "alg_args.append(AlgArgs(file_glob=\"marl/dead_allies_mean/*\", label=\"RODE\"))\n",
    "alg_args.append(AlgArgs(file_glob=\"mardoc1/dead_allies_mean/*\", label=\"MARDOC1\"))\n",
    "alg_args.append(AlgArgs(file_glob=\"mardoc2/dead_allies_mean/*\", label=\"MARDOC2\"))\n",
    "alg_args.append(AlgArgs(file_glob=\"mardoc3/dead_allies_mean/*\", label=\"MARDOC3\"))\n",
    "\n",
    "plot_save(args, alg_args)\n",
    "plt.clf() "
   ]
  },
  {
   "cell_type": "code",
   "execution_count": 10,
   "metadata": {},
   "outputs": [],
   "source": [
    "args = Args(fig_name=\"dead_enemies_mean.pdf\", \n",
    "         ylabel='# Dead Enemies', \n",
    "         x_max=int(1e6)) \n",
    "alg_args = [] \n",
    "alg_args.append(AlgArgs(file_glob=\"marl/dead_enemies_mean/*\", label=\"RODE\"))\n",
    "alg_args.append(AlgArgs(file_glob=\"mardoc1/dead_enemies_mean/*\", label=\"MARDOC1\"))\n",
    "alg_args.append(AlgArgs(file_glob=\"mardoc2/dead_enemies_mean/*\", label=\"MARDOC2\"))\n",
    "alg_args.append(AlgArgs(file_glob=\"mardoc3/dead_enemies_mean/*\", label=\"MARDOC3\"))\n",
    "\n",
    "plot_save(args, alg_args)\n",
    "plt.clf() "
   ]
  },
  {
   "cell_type": "code",
   "execution_count": 11,
   "metadata": {},
   "outputs": [],
   "source": [
    "args = Args(fig_name=\"ep_length_mean.pdf\", \n",
    "         ylabel='Episode Length', \n",
    "         x_max=int(1e6)) \n",
    "alg_args = [] \n",
    "alg_args.append(AlgArgs(file_glob=\"marl/ep_length_mean/*\", label=\"RODE\"))\n",
    "alg_args.append(AlgArgs(file_glob=\"mardoc1/ep_length_mean/*\", label=\"MARDOC1\"))\n",
    "alg_args.append(AlgArgs(file_glob=\"mardoc2/ep_length_mean/*\", label=\"MARDOC2\"))\n",
    "alg_args.append(AlgArgs(file_glob=\"mardoc3/ep_length_mean/*\", label=\"MARDOC3\"))\n",
    "\n",
    "plot_save(args, alg_args)\n",
    "plt.clf() "
   ]
  }
 ],
 "metadata": {
  "kernelspec": {
   "display_name": "Python 3",
   "language": "python",
   "name": "python3"
  },
  "language_info": {
   "codemirror_mode": {
    "name": "ipython",
    "version": 3
   },
   "file_extension": ".py",
   "mimetype": "text/x-python",
   "name": "python",
   "nbconvert_exporter": "python",
   "pygments_lexer": "ipython3",
   "version": "3.8.5"
  }
 },
 "nbformat": 4,
 "nbformat_minor": 4
}
